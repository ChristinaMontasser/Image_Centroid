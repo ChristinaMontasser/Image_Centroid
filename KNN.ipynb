{
 "cells": [
  {
   "cell_type": "code",
   "execution_count": 36,
   "metadata": {},
   "outputs": [],
   "source": [
    "import numpy as np\n"
   ]
  },
  {
   "cell_type": "code",
   "execution_count": 59,
   "metadata": {},
   "outputs": [],
   "source": [
    "def eculadine(vec1, vec2):\n",
    "    reVec = np.empty((0, 2))\n",
    "    i=0\n",
    "    while(i<int(len(vec1))):\n",
    "        reVec = np.append(reVec, np.sqrt(np.add(np.square(np.subtract(vec1[i],vec2[i])), np.square((np.subtract(vec1[i+1],vec2[i+1]))))))\n",
    "\n",
    "        #reVec = np.append(reVec, np.sqrt(np.add(np.square((vec1[i]-vec2[i])), np.square((vec1[i+1]-vec2[i+1])))))  \n",
    "        i+=2\n",
    "    return reVec"
   ]
  },
  {
   "cell_type": "code",
   "execution_count": 38,
   "metadata": {},
   "outputs": [],
   "source": [
    "# def EculadineV(vec1, vec2):\n",
    "#     vec1 = vec1.reshape(int(len(vec1)/2), 2)\n",
    "#     vec2 = vec2.reshape(int(len(vec2)/2), 2)\n",
    "\n",
    "#     print(np.sqrt(np.sum(np.square(vec1-vec2))))"
   ]
  },
  {
   "cell_type": "code",
   "execution_count": 39,
   "metadata": {},
   "outputs": [
    {
     "data": {
      "text/plain": [
       "array([ 3.        ,  4.47213595,  1.        , 19.02629759])"
      ]
     },
     "execution_count": 39,
     "metadata": {},
     "output_type": "execute_result"
    }
   ],
   "source": [
    "eculadine(np.array([4 , 2 , 3 , 1, 2 , 0, 25,3]), np.array([1 , 2, 5 , 5, 1 ,0, 6 ,2]))"
   ]
  },
  {
   "cell_type": "code",
   "execution_count": 90,
   "metadata": {},
   "outputs": [],
   "source": [
    "def get_neighbors(train_set, Y_train, test_row, K_Nearest):\n",
    "    distances = list()\n",
    "    for i in range (len(train_set)):\n",
    "        print()\n",
    "        dis = eculadine(train_set[i], test_row)\n",
    "        dis= np.sum(dis)\n",
    "        distances.append((Y_train[i], dis))\n",
    "        print(dis)\n",
    "    print(distances)\n",
    "    distances.sort(key=lambda tup: tup[1])\n",
    "\n",
    "    neighbors = list()\n",
    "    #print(distances)\n",
    "    for i in range(K_Nearest):\n",
    "        neighbors.append(distances[i][0])\n",
    "    return neighbors"
   ]
  },
  {
   "cell_type": "code",
   "execution_count": 41,
   "metadata": {},
   "outputs": [],
   "source": [
    "def voting(neighbors):\n",
    "    return max(neighbors, key=neighbors.count)"
   ]
  },
  {
   "cell_type": "code",
   "execution_count": 91,
   "metadata": {},
   "outputs": [
    {
     "name": "stdout",
     "output_type": "stream",
     "text": [
      "\n",
      "6.60555127546399\n",
      "\n",
      "3.23606797749979\n",
      "\n",
      "7.89292222699217\n",
      "\n",
      "27.183101959097005\n",
      "[('j', 6.60555127546399), ('j', 3.23606797749979), ('l', 7.89292222699217), ('l', 27.183101959097005)]\n"
     ]
    },
    {
     "data": {
      "text/plain": [
       "'j'"
      ]
     },
     "execution_count": 91,
     "metadata": {},
     "output_type": "execute_result"
    }
   ],
   "source": [
    "dis= get_neighbors(np.array([[4 , 2, 5, 6 ], [3 , 1, 2 ,9], [2 , 0, 6, 4], [25,3, 3 , 5]]), np.array([\"j\", \"j\", \"l\", \"l\"]),np.array([1 , 2, 2 , 8]),3)\n",
    "voting(dis)"
   ]
  },
  {
   "cell_type": "code",
   "execution_count": 63,
   "metadata": {},
   "outputs": [],
   "source": [
    "arr1 = np.array([0.0 , 13.0 ,  0.0 , 11.15789474, 0.0 ,12.5 ,0.89473684 ,9.10526316 ,1.77777778 ,4.22222222 ,1.57142857 ,1.57142857 ,2.5 ,2.5 ,0.0 , 0.0  ])\n",
    "arr2 = np.array([ 0.0, 0.0 , 0.66666667, 9.66666667, 0.0 , 13.0 , 0.0 , 12.15384615 , 0.0 , 0.0 , 4.06666667,  4.06666667,  1.83333333,  1.83333333 , 0.0 , 0.0])\n",
    "arr3 = np.array([ 0.0, 0.0, 0.0, 11.0,  0.0, 7.5 ,  0.0, 10.1875 ,  2.75 , 2.75 , 2.90909091,  4.18181818,  3.15384615,  4.23076923, 0.0 , 0.0 ])"
   ]
  },
  {
   "cell_type": "code",
   "execution_count": 95,
   "metadata": {},
   "outputs": [
    {
     "name": "stdout",
     "output_type": "stream",
     "text": [
      "0\n",
      "1\n",
      "2\n",
      "3\n"
     ]
    }
   ],
   "source": [
    "for i in range (4):\n",
    "    print(i)\n",
    "    i+=1"
   ]
  },
  {
   "cell_type": "code",
   "execution_count": 69,
   "metadata": {},
   "outputs": [
    {
     "data": {
      "text/plain": [
       "2"
      ]
     },
     "execution_count": 69,
     "metadata": {},
     "output_type": "execute_result"
    }
   ],
   "source": [
    "com = np.array([arr1, arr3])\n",
    "len(com)\n",
    "#com[0]"
   ]
  },
  {
   "cell_type": "code",
   "execution_count": 92,
   "metadata": {},
   "outputs": [
    {
     "name": "stdout",
     "output_type": "stream",
     "text": [
      "\n",
      "27.363471856310206\n",
      "\n",
      "16.746486403099382\n",
      "[('k', 27.363471856310206), ('l', 16.746486403099382)]\n"
     ]
    },
    {
     "data": {
      "text/plain": [
       "['l']"
      ]
     },
     "execution_count": 92,
     "metadata": {},
     "output_type": "execute_result"
    }
   ],
   "source": [
    "get_neighbors(np.array([arr1, arr3]), np.array([\"k\", \"l\"]), arr2 , 1)"
   ]
  },
  {
   "cell_type": "code",
   "execution_count": 67,
   "metadata": {},
   "outputs": [
    {
     "data": {
      "text/plain": [
       "array([13.        ,  1.6334643 ,  0.5       ,  3.17717048,  4.58122847,\n",
       "        3.52879956,  0.94280905,  0.        ])"
      ]
     },
     "execution_count": 67,
     "metadata": {},
     "output_type": "execute_result"
    }
   ],
   "source": [
    "eculadine(arr1, arr2)"
   ]
  }
 ],
 "metadata": {
  "interpreter": {
   "hash": "02091e4753613aaa25cfbd85ae4eb5d84c414c1685b7c0fac4681c9e872972a3"
  },
  "kernelspec": {
   "display_name": "Python 3.9.5 64-bit",
   "language": "python",
   "name": "python3"
  },
  "language_info": {
   "codemirror_mode": {
    "name": "ipython",
    "version": 3
   },
   "file_extension": ".py",
   "mimetype": "text/x-python",
   "name": "python",
   "nbconvert_exporter": "python",
   "pygments_lexer": "ipython3",
   "version": "3.9.5"
  },
  "orig_nbformat": 4
 },
 "nbformat": 4,
 "nbformat_minor": 2
}
