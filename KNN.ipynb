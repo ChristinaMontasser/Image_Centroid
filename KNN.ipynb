{
 "cells": [
  {
   "cell_type": "code",
   "execution_count": 20,
   "metadata": {},
   "outputs": [],
   "source": [
    "import numpy as np\n"
   ]
  },
  {
   "cell_type": "code",
   "execution_count": 8,
   "metadata": {},
   "outputs": [],
   "source": [
    "def eculadine(vec1, vec2):\n",
    "    reVec = np.empty((0, 2))\n",
    "    i=0\n",
    "    while(i<int(len(vec1))):\n",
    "        reVec = np.append(reVec, np.sqrt(np.add(np.square((vec1[i]-vec2[i])), np.square((vec1[i+1]-vec2[i+1])))))  \n",
    "        i+=2\n",
    "    return reVec"
   ]
  },
  {
   "cell_type": "code",
   "execution_count": 38,
   "metadata": {},
   "outputs": [],
   "source": [
    "# def EculadineV(vec1, vec2):\n",
    "#     vec1 = vec1.reshape(int(len(vec1)/2), 2)\n",
    "#     vec2 = vec2.reshape(int(len(vec2)/2), 2)\n",
    "\n",
    "#     print(np.sqrt(np.sum(np.square(vec1-vec2))))"
   ]
  },
  {
   "cell_type": "code",
   "execution_count": 9,
   "metadata": {},
   "outputs": [
    {
     "data": {
      "text/plain": [
       "array([ 3.        ,  4.47213595,  1.        , 19.02629759])"
      ]
     },
     "execution_count": 9,
     "metadata": {},
     "output_type": "execute_result"
    }
   ],
   "source": [
    "eculadine(np.array([4 , 2 , 3 , 1, 2 , 0, 25,3]), np.array([1 , 2, 5 , 5, 1 ,0, 6 ,2]))"
   ]
  },
  {
   "cell_type": "code",
   "execution_count": 87,
   "metadata": {},
   "outputs": [],
   "source": [
    "def get_neighbors(train_set, Y_train, test_row, K_Nearest):\n",
    "    distances = list()\n",
    "    for i in range (len(train_set)):\n",
    "        print()\n",
    "        dis = eculadine(train_set[i], test_row)\n",
    "        distances.append((Y_train[i], dis))\n",
    "    distances.sort(key=lambda tup: tup[1])\n",
    "\n",
    "    neighbors = list()\n",
    "    #print(distances)\n",
    "    for i in range(K_Nearest):\n",
    "        neighbors.append(distances[i][0])\n",
    "    return neighbors"
   ]
  },
  {
   "cell_type": "code",
   "execution_count": 108,
   "metadata": {},
   "outputs": [],
   "source": [
    "def voting(neighbors):\n",
    "    return max(neighbors,key=neighbors.count)"
   ]
  },
  {
   "cell_type": "code",
   "execution_count": 109,
   "metadata": {},
   "outputs": [
    {
     "name": "stdout",
     "output_type": "stream",
     "text": [
      "\n",
      "\n",
      "\n",
      "\n"
     ]
    },
    {
     "data": {
      "text/plain": [
       "'j'"
      ]
     },
     "execution_count": 109,
     "metadata": {},
     "output_type": "execute_result"
    }
   ],
   "source": [
    "dis= get_neighbors(np.array([[4 , 2 ], [3 , 1], [2 , 0], [25,3]]), np.array([\"j\", \"j\", \"l\", \"l\"]),np.array([1 , 2]),3)\n",
    "voting(dis)"
   ]
  }
 ],
 "metadata": {
  "interpreter": {
   "hash": "02091e4753613aaa25cfbd85ae4eb5d84c414c1685b7c0fac4681c9e872972a3"
  },
  "kernelspec": {
   "display_name": "Python 3.9.5 64-bit",
   "language": "python",
   "name": "python3"
  },
  "language_info": {
   "codemirror_mode": {
    "name": "ipython",
    "version": 3
   },
   "file_extension": ".py",
   "mimetype": "text/x-python",
   "name": "python",
   "nbconvert_exporter": "python",
   "pygments_lexer": "ipython3",
   "version": "3.9.5"
  },
  "orig_nbformat": 4
 },
 "nbformat": 4,
 "nbformat_minor": 2
}
